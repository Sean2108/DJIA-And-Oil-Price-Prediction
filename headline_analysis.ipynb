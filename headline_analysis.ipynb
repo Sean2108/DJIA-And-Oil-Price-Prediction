{
 "cells": [
  {
   "cell_type": "markdown",
   "metadata": {},
   "source": [
    "# Initial Setup"
   ]
  },
  {
   "cell_type": "code",
   "execution_count": 1,
   "metadata": {},
   "outputs": [],
   "source": [
    "from datetime import datetime as dt\n",
    "import pandas as pd\n",
    "from nltk import download\n",
    "from nltk.sentiment.vader import SentimentIntensityAnalyzer\n",
    "import re"
   ]
  },
  {
   "cell_type": "code",
   "execution_count": 2,
   "metadata": {},
   "outputs": [
    {
     "name": "stderr",
     "output_type": "stream",
     "text": [
      "[nltk_data] Downloading package vader_lexicon to\n",
      "[nltk_data]     /home/sean/nltk_data...\n",
      "[nltk_data]   Package vader_lexicon is already up-to-date!\n"
     ]
    },
    {
     "data": {
      "text/plain": [
       "True"
      ]
     },
     "execution_count": 2,
     "metadata": {},
     "output_type": "execute_result"
    }
   ],
   "source": [
    "download('vader_lexicon')"
   ]
  },
  {
   "cell_type": "markdown",
   "metadata": {},
   "source": [
    "# Data and Text Cleaning"
   ]
  },
  {
   "cell_type": "code",
   "execution_count": 3,
   "metadata": {},
   "outputs": [
    {
     "data": {
      "text/html": [
       "<div>\n",
       "<style scoped>\n",
       "    .dataframe tbody tr th:only-of-type {\n",
       "        vertical-align: middle;\n",
       "    }\n",
       "\n",
       "    .dataframe tbody tr th {\n",
       "        vertical-align: top;\n",
       "    }\n",
       "\n",
       "    .dataframe thead th {\n",
       "        text-align: right;\n",
       "    }\n",
       "</style>\n",
       "<table border=\"1\" class=\"dataframe\">\n",
       "  <thead>\n",
       "    <tr style=\"text-align: right;\">\n",
       "      <th></th>\n",
       "      <th>News</th>\n",
       "    </tr>\n",
       "    <tr>\n",
       "      <th>Date</th>\n",
       "      <th></th>\n",
       "    </tr>\n",
       "  </thead>\n",
       "  <tbody>\n",
       "    <tr>\n",
       "      <th>2008-06-08</th>\n",
       "      <td>b'Marriage, they said, was reduced to the stat...</td>\n",
       "    </tr>\n",
       "    <tr>\n",
       "      <th>2008-06-08</th>\n",
       "      <td>b'Nim Chimpsky: The tragedy of the chimp who t...</td>\n",
       "    </tr>\n",
       "    <tr>\n",
       "      <th>2008-06-08</th>\n",
       "      <td>b\"Canada: Beware slippery slope' to censorship...</td>\n",
       "    </tr>\n",
       "    <tr>\n",
       "      <th>2008-06-08</th>\n",
       "      <td>b'EU Vice-President Luisa Morgantini and the I...</td>\n",
       "    </tr>\n",
       "    <tr>\n",
       "      <th>2008-06-08</th>\n",
       "      <td>b\"Israeli minister: Israel will attack Iran if...</td>\n",
       "    </tr>\n",
       "  </tbody>\n",
       "</table>\n",
       "</div>"
      ],
      "text/plain": [
       "                                                         News\n",
       "Date                                                         \n",
       "2008-06-08  b'Marriage, they said, was reduced to the stat...\n",
       "2008-06-08  b'Nim Chimpsky: The tragedy of the chimp who t...\n",
       "2008-06-08  b\"Canada: Beware slippery slope' to censorship...\n",
       "2008-06-08  b'EU Vice-President Luisa Morgantini and the I...\n",
       "2008-06-08  b\"Israeli minister: Israel will attack Iran if..."
      ]
     },
     "execution_count": 3,
     "metadata": {},
     "output_type": "execute_result"
    }
   ],
   "source": [
    "headlines = pd.read_csv('headlines.csv', index_col='Date', parse_dates=['Date'], date_parser=lambda date: dt.strptime(date,'%Y-%m-%d').date()).sort_index()\n",
    "headlines.head()"
   ]
  },
  {
   "cell_type": "code",
   "execution_count": 4,
   "metadata": {},
   "outputs": [
    {
     "data": {
      "text/html": [
       "<div>\n",
       "<style scoped>\n",
       "    .dataframe tbody tr th:only-of-type {\n",
       "        vertical-align: middle;\n",
       "    }\n",
       "\n",
       "    .dataframe tbody tr th {\n",
       "        vertical-align: top;\n",
       "    }\n",
       "\n",
       "    .dataframe thead th {\n",
       "        text-align: right;\n",
       "    }\n",
       "</style>\n",
       "<table border=\"1\" class=\"dataframe\">\n",
       "  <thead>\n",
       "    <tr style=\"text-align: right;\">\n",
       "      <th></th>\n",
       "      <th>News</th>\n",
       "    </tr>\n",
       "    <tr>\n",
       "      <th>Date</th>\n",
       "      <th></th>\n",
       "    </tr>\n",
       "  </thead>\n",
       "  <tbody>\n",
       "    <tr>\n",
       "      <th>2008-06-08</th>\n",
       "      <td>Marriage, they said, was reduced to the status...</td>\n",
       "    </tr>\n",
       "    <tr>\n",
       "      <th>2008-06-08</th>\n",
       "      <td>Nim Chimpsky: The tragedy of the chimp who tho...</td>\n",
       "    </tr>\n",
       "    <tr>\n",
       "      <th>2008-06-08</th>\n",
       "      <td>Canada: Beware slippery slope to censorship, h...</td>\n",
       "    </tr>\n",
       "    <tr>\n",
       "      <th>2008-06-08</th>\n",
       "      <td>EU Vice-President Luisa Morgantini and the Iri...</td>\n",
       "    </tr>\n",
       "    <tr>\n",
       "      <th>2008-06-08</th>\n",
       "      <td>Israeli minister: Israel will attack Iran if i...</td>\n",
       "    </tr>\n",
       "  </tbody>\n",
       "</table>\n",
       "</div>"
      ],
      "text/plain": [
       "                                                         News\n",
       "Date                                                         \n",
       "2008-06-08  Marriage, they said, was reduced to the status...\n",
       "2008-06-08  Nim Chimpsky: The tragedy of the chimp who tho...\n",
       "2008-06-08  Canada: Beware slippery slope to censorship, h...\n",
       "2008-06-08  EU Vice-President Luisa Morgantini and the Iri...\n",
       "2008-06-08  Israeli minister: Israel will attack Iran if i..."
      ]
     },
     "execution_count": 4,
     "metadata": {},
     "output_type": "execute_result"
    }
   ],
   "source": [
    "REPLACE_NO_SPACE = re.compile(\"b[\\\"\\']|[\\'\\\"]\")\n",
    "headlines['News'] = headlines['News'].str.replace(REPLACE_NO_SPACE, '')\n",
    "headlines.head()"
   ]
  },
  {
   "cell_type": "markdown",
   "metadata": {},
   "source": [
    "# Sentiment Analysis using NLTK's VADER"
   ]
  },
  {
   "cell_type": "code",
   "execution_count": 5,
   "metadata": {},
   "outputs": [
    {
     "data": {
      "text/html": [
       "<div>\n",
       "<style scoped>\n",
       "    .dataframe tbody tr th:only-of-type {\n",
       "        vertical-align: middle;\n",
       "    }\n",
       "\n",
       "    .dataframe tbody tr th {\n",
       "        vertical-align: top;\n",
       "    }\n",
       "\n",
       "    .dataframe thead th {\n",
       "        text-align: right;\n",
       "    }\n",
       "</style>\n",
       "<table border=\"1\" class=\"dataframe\">\n",
       "  <thead>\n",
       "    <tr style=\"text-align: right;\">\n",
       "      <th></th>\n",
       "      <th>News</th>\n",
       "      <th>neg</th>\n",
       "      <th>neu</th>\n",
       "      <th>pos</th>\n",
       "    </tr>\n",
       "    <tr>\n",
       "      <th>Date</th>\n",
       "      <th></th>\n",
       "      <th></th>\n",
       "      <th></th>\n",
       "      <th></th>\n",
       "    </tr>\n",
       "  </thead>\n",
       "  <tbody>\n",
       "    <tr>\n",
       "      <th>2008-06-08</th>\n",
       "      <td>Marriage, they said, was reduced to the status...</td>\n",
       "      <td>0.169</td>\n",
       "      <td>0.831</td>\n",
       "      <td>0.000</td>\n",
       "    </tr>\n",
       "    <tr>\n",
       "      <th>2008-06-08</th>\n",
       "      <td>Nim Chimpsky: The tragedy of the chimp who tho...</td>\n",
       "      <td>0.196</td>\n",
       "      <td>0.804</td>\n",
       "      <td>0.000</td>\n",
       "    </tr>\n",
       "    <tr>\n",
       "      <th>2008-06-08</th>\n",
       "      <td>Canada: Beware slippery slope to censorship, h...</td>\n",
       "      <td>0.000</td>\n",
       "      <td>1.000</td>\n",
       "      <td>0.000</td>\n",
       "    </tr>\n",
       "    <tr>\n",
       "      <th>2008-06-08</th>\n",
       "      <td>EU Vice-President Luisa Morgantini and the Iri...</td>\n",
       "      <td>0.091</td>\n",
       "      <td>0.909</td>\n",
       "      <td>0.000</td>\n",
       "    </tr>\n",
       "    <tr>\n",
       "      <th>2008-06-08</th>\n",
       "      <td>Israeli minister: Israel will attack Iran if i...</td>\n",
       "      <td>0.188</td>\n",
       "      <td>0.666</td>\n",
       "      <td>0.146</td>\n",
       "    </tr>\n",
       "  </tbody>\n",
       "</table>\n",
       "</div>"
      ],
      "text/plain": [
       "                                                         News    neg    neu  \\\n",
       "Date                                                                          \n",
       "2008-06-08  Marriage, they said, was reduced to the status...  0.169  0.831   \n",
       "2008-06-08  Nim Chimpsky: The tragedy of the chimp who tho...  0.196  0.804   \n",
       "2008-06-08  Canada: Beware slippery slope to censorship, h...  0.000  1.000   \n",
       "2008-06-08  EU Vice-President Luisa Morgantini and the Iri...  0.091  0.909   \n",
       "2008-06-08  Israeli minister: Israel will attack Iran if i...  0.188  0.666   \n",
       "\n",
       "              pos  \n",
       "Date               \n",
       "2008-06-08  0.000  \n",
       "2008-06-08  0.000  \n",
       "2008-06-08  0.000  \n",
       "2008-06-08  0.000  \n",
       "2008-06-08  0.146  "
      ]
     },
     "execution_count": 5,
     "metadata": {},
     "output_type": "execute_result"
    }
   ],
   "source": [
    "sid = SentimentIntensityAnalyzer()\n",
    "scores = headlines['News'].map(lambda news: sid.polarity_scores(news))\n",
    "for col in ['neg', 'neu', 'pos']:\n",
    "    headlines[col] = scores.map(lambda score: score[col])\n",
    "headlines.head()"
   ]
  },
  {
   "cell_type": "code",
   "execution_count": 6,
   "metadata": {},
   "outputs": [
    {
     "data": {
      "text/html": [
       "<div>\n",
       "<style scoped>\n",
       "    .dataframe tbody tr th:only-of-type {\n",
       "        vertical-align: middle;\n",
       "    }\n",
       "\n",
       "    .dataframe tbody tr th {\n",
       "        vertical-align: top;\n",
       "    }\n",
       "\n",
       "    .dataframe thead th {\n",
       "        text-align: right;\n",
       "    }\n",
       "</style>\n",
       "<table border=\"1\" class=\"dataframe\">\n",
       "  <thead>\n",
       "    <tr style=\"text-align: right;\">\n",
       "      <th></th>\n",
       "      <th>News</th>\n",
       "      <th>neg</th>\n",
       "      <th>neu</th>\n",
       "      <th>pos</th>\n",
       "      <th>overall</th>\n",
       "    </tr>\n",
       "    <tr>\n",
       "      <th>Date</th>\n",
       "      <th></th>\n",
       "      <th></th>\n",
       "      <th></th>\n",
       "      <th></th>\n",
       "      <th></th>\n",
       "    </tr>\n",
       "  </thead>\n",
       "  <tbody>\n",
       "    <tr>\n",
       "      <th>2008-06-08</th>\n",
       "      <td>Marriage, they said, was reduced to the status...</td>\n",
       "      <td>0.169</td>\n",
       "      <td>0.831</td>\n",
       "      <td>0.000</td>\n",
       "      <td>-0.169</td>\n",
       "    </tr>\n",
       "    <tr>\n",
       "      <th>2008-06-08</th>\n",
       "      <td>Nim Chimpsky: The tragedy of the chimp who tho...</td>\n",
       "      <td>0.196</td>\n",
       "      <td>0.804</td>\n",
       "      <td>0.000</td>\n",
       "      <td>-0.196</td>\n",
       "    </tr>\n",
       "    <tr>\n",
       "      <th>2008-06-08</th>\n",
       "      <td>Canada: Beware slippery slope to censorship, h...</td>\n",
       "      <td>0.000</td>\n",
       "      <td>1.000</td>\n",
       "      <td>0.000</td>\n",
       "      <td>0.000</td>\n",
       "    </tr>\n",
       "    <tr>\n",
       "      <th>2008-06-08</th>\n",
       "      <td>EU Vice-President Luisa Morgantini and the Iri...</td>\n",
       "      <td>0.091</td>\n",
       "      <td>0.909</td>\n",
       "      <td>0.000</td>\n",
       "      <td>-0.091</td>\n",
       "    </tr>\n",
       "    <tr>\n",
       "      <th>2008-06-08</th>\n",
       "      <td>Israeli minister: Israel will attack Iran if i...</td>\n",
       "      <td>0.188</td>\n",
       "      <td>0.666</td>\n",
       "      <td>0.146</td>\n",
       "      <td>-0.042</td>\n",
       "    </tr>\n",
       "  </tbody>\n",
       "</table>\n",
       "</div>"
      ],
      "text/plain": [
       "                                                         News    neg    neu  \\\n",
       "Date                                                                          \n",
       "2008-06-08  Marriage, they said, was reduced to the status...  0.169  0.831   \n",
       "2008-06-08  Nim Chimpsky: The tragedy of the chimp who tho...  0.196  0.804   \n",
       "2008-06-08  Canada: Beware slippery slope to censorship, h...  0.000  1.000   \n",
       "2008-06-08  EU Vice-President Luisa Morgantini and the Iri...  0.091  0.909   \n",
       "2008-06-08  Israeli minister: Israel will attack Iran if i...  0.188  0.666   \n",
       "\n",
       "              pos  overall  \n",
       "Date                        \n",
       "2008-06-08  0.000   -0.169  \n",
       "2008-06-08  0.000   -0.196  \n",
       "2008-06-08  0.000    0.000  \n",
       "2008-06-08  0.000   -0.091  \n",
       "2008-06-08  0.146   -0.042  "
      ]
     },
     "execution_count": 6,
     "metadata": {},
     "output_type": "execute_result"
    }
   ],
   "source": [
    "headlines['overall'] = headlines['pos'] - headlines['neg']\n",
    "headlines.head()"
   ]
  },
  {
   "cell_type": "code",
   "execution_count": 7,
   "metadata": {},
   "outputs": [
    {
     "data": {
      "text/plain": [
       "neg        0.180892\n",
       "neu        0.756273\n",
       "pos        0.062723\n",
       "overall   -0.118170\n",
       "dtype: float64"
      ]
     },
     "execution_count": 7,
     "metadata": {},
     "output_type": "execute_result"
    }
   ],
   "source": [
    "headlines[:'2009-06-01'].mean()"
   ]
  },
  {
   "cell_type": "code",
   "execution_count": 8,
   "metadata": {},
   "outputs": [
    {
     "data": {
      "text/plain": [
       "neg        0.160466\n",
       "neu        0.778824\n",
       "pos        0.060709\n",
       "overall   -0.099757\n",
       "dtype: float64"
      ]
     },
     "execution_count": 8,
     "metadata": {},
     "output_type": "execute_result"
    }
   ],
   "source": [
    "headlines['2009-06-01':].mean()"
   ]
  },
  {
   "cell_type": "code",
   "execution_count": null,
   "metadata": {},
   "outputs": [],
   "source": []
  }
 ],
 "metadata": {
  "kernelspec": {
   "display_name": "Python 3",
   "language": "python",
   "name": "python3"
  },
  "language_info": {
   "codemirror_mode": {
    "name": "ipython",
    "version": 3
   },
   "file_extension": ".py",
   "mimetype": "text/x-python",
   "name": "python",
   "nbconvert_exporter": "python",
   "pygments_lexer": "ipython3",
   "version": "3.6.7"
  }
 },
 "nbformat": 4,
 "nbformat_minor": 2
}
